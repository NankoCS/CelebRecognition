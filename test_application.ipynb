{
 "cells": [
  {
   "cell_type": "code",
   "execution_count": 31,
   "metadata": {},
   "outputs": [],
   "source": [
    "import numpy as np\n",
    "import matplotlib.pyplot as plt\n",
    "from tensorflow import keras\n",
    "import tensorflow as tf\n",
    "from tensorflow.keras import layers\n",
    "# to split dataset\n",
    "from sklearn.model_selection import train_test_split\n",
    "# to import dataset\n",
    "from sklearn.datasets import fetch_lfw_people\n",
    "%matplotlib inline\n",
    "from tensorflow.keras.preprocessing import image_dataset_from_directory\n",
    "import os"
   ]
  },
  {
   "cell_type": "code",
   "execution_count": 32,
   "metadata": {},
   "outputs": [],
   "source": [
    "model = keras.models.load_model('./models/RN_12 C')"
   ]
  },
  {
   "cell_type": "code",
   "execution_count": 33,
   "metadata": {},
   "outputs": [],
   "source": [
    "from PIL import Image\n",
    "from urllib import request\n",
    "import cv2\n",
    "from mtcnn.mtcnn import MTCNN"
   ]
  },
  {
   "cell_type": "code",
   "execution_count": 34,
   "metadata": {},
   "outputs": [],
   "source": [
    "# # Cell to change images by images of zoomed faces\n",
    "\n",
    "# from PIL import Image\n",
    "# from mtcnn.mtcnn import MTCNN\n",
    "# # Initialize mtcnn detector\n",
    "# detector = MTCNN()\n",
    "# border_rel = 0 # increase or decrease zoom on image\n",
    "# path = \"./data/own_testing/\"\n",
    "# my_list = os.listdir(path)\n",
    "# # print(my_list)\n",
    "# file_index = 0\n",
    "# for person in my_list:\n",
    "#     print(person)\n",
    "#     path_of_person = path+person+\"/\"\n",
    "#     # print(path_of_person)\n",
    "#     list_of_files = os.listdir(path_of_person)\n",
    "#     # print(list_of_files)\n",
    "#     for file in list_of_files:\n",
    "#         # if file[0]+file[1]+file[2] < 'Jon':\n",
    "#         #     continue\n",
    "#         file_index+=1\n",
    "#         print(file_index)\n",
    "#         path_of_img = path_of_person+file\n",
    "#         img = Image.open(path_of_img)\n",
    "#         img = np.asarray(img, dtype='uint8')\n",
    "#         detections = detector.detect_faces(img)\n",
    "#         x1, y1, width, height = detections[0]['box']\n",
    "#         dw = round(width * border_rel)\n",
    "#         dh = round(height * border_rel)\n",
    "#         x2, y2 = x1 + width + dw, y1 + height + dh\n",
    "#         face = img[y1:y2, x1:x2]\n",
    "#         face = Image.fromarray(face)\n",
    "#         face = face.resize((224, 224))\n",
    "#         face = np.asarray(face)\n",
    "#         data = Image.fromarray(face) \n",
    "#         # saving the final output \n",
    "#         # as a PNG file\n",
    "#         data.save(path_of_img)"
   ]
  },
  {
   "cell_type": "code",
   "execution_count": 35,
   "metadata": {},
   "outputs": [
    {
     "name": "stdout",
     "output_type": "stream",
     "text": [
      "Found 23 files belonging to 12 classes.\n"
     ]
    }
   ],
   "source": [
    "BATCH_SIZE = 32\n",
    "IMG_SIZE = (224, 224)\n",
    "# data_git for when on macbook\n",
    "directory = \"./data/own_testing/\"\n",
    "test_dataset = image_dataset_from_directory(directory,\n",
    "                                             shuffle=True,\n",
    "                                             batch_size=BATCH_SIZE,\n",
    "                                             image_size=IMG_SIZE,\n",
    "                                             validation_split=0,\n",
    "                                             seed = 42)"
   ]
  },
  {
   "cell_type": "code",
   "execution_count": 36,
   "metadata": {},
   "outputs": [
    {
     "name": "stdout",
     "output_type": "stream",
     "text": [
      "WARNING:tensorflow:6 out of the last 6 calls to <function Model.make_test_function.<locals>.test_function at 0x000001E0F44415A0> triggered tf.function retracing. Tracing is expensive and the excessive number of tracings could be due to (1) creating @tf.function repeatedly in a loop, (2) passing tensors with different shapes, (3) passing Python objects instead of tensors. For (1), please define your @tf.function outside of the loop. For (2), @tf.function has reduce_retracing=True option that can avoid unnecessary retracing. For (3), please refer to https://www.tensorflow.org/guide/function#controlling_retracing and https://www.tensorflow.org/api_docs/python/tf/function for  more details.\n",
      "1/1 [==============================] - 1s 1s/step - loss: 0.5081 - accuracy: 0.7826\n"
     ]
    },
    {
     "data": {
      "text/plain": [
       "[0.5081318616867065, 0.782608687877655]"
      ]
     },
     "execution_count": 36,
     "metadata": {},
     "output_type": "execute_result"
    }
   ],
   "source": [
    "model.evaluate(test_dataset)"
   ]
  }
 ],
 "metadata": {
  "kernelspec": {
   "display_name": "Python 3.10.2 64-bit",
   "language": "python",
   "name": "python3"
  },
  "language_info": {
   "codemirror_mode": {
    "name": "ipython",
    "version": 3
   },
   "file_extension": ".py",
   "mimetype": "text/x-python",
   "name": "python",
   "nbconvert_exporter": "python",
   "pygments_lexer": "ipython3",
   "version": "3.10.2"
  },
  "orig_nbformat": 4,
  "vscode": {
   "interpreter": {
    "hash": "438b8d175c626dc66ab93e1d243ebbf49c1b7127dc5ebb75e5a50a3421acac2b"
   }
  }
 },
 "nbformat": 4,
 "nbformat_minor": 2
}
