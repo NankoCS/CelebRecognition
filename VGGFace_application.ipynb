{
 "cells": [
  {
   "cell_type": "code",
   "execution_count": 21,
   "metadata": {},
   "outputs": [],
   "source": [
    "import numpy as np\n",
    "import matplotlib.pyplot as plt\n",
    "from tensorflow import keras\n",
    "import tensorflow as tf\n",
    "from tensorflow.keras import layers\n",
    "# to split dataset\n",
    "from sklearn.model_selection import train_test_split\n",
    "# to import dataset\n",
    "from sklearn.datasets import fetch_lfw_people\n",
    "%matplotlib inline\n",
    "from tensorflow.keras.preprocessing import image_dataset_from_directory\n",
    "import os"
   ]
  },
  {
   "cell_type": "code",
   "execution_count": 22,
   "metadata": {},
   "outputs": [],
   "source": [
    "# Cell used to truncate the dataset with respect to a minimum number of files per person\n",
    "import shutil\n",
    "import os\n",
    "path = \"./data/lfw_12/\"\n",
    "my_list = os.listdir(path)\n",
    "for folder in my_list:\n",
    "    list_of_files = os.listdir(path+folder)\n",
    "    if len(list_of_files) < 50:\n",
    "        shutil.rmtree(path + folder)\n",
    "my_list = os.listdir(path)"
   ]
  },
  {
   "cell_type": "code",
   "execution_count": 23,
   "metadata": {},
   "outputs": [
    {
     "name": "stdout",
     "output_type": "stream",
     "text": [
      "Found 1560 files belonging to 12 classes.\n",
      "Using 1248 files for training.\n",
      "Found 1560 files belonging to 12 classes.\n",
      "Using 312 files for validation.\n"
     ]
    }
   ],
   "source": [
    "BATCH_SIZE = 32\n",
    "IMG_SIZE = (224, 224)\n",
    "# data_git for when on macbook\n",
    "directory = \"./data/lfw_12/\"\n",
    "train_dataset = image_dataset_from_directory(directory,\n",
    "                                             shuffle=True,\n",
    "                                             batch_size=BATCH_SIZE,\n",
    "                                             image_size=IMG_SIZE,\n",
    "                                             validation_split=0.2,\n",
    "                                             subset='training',\n",
    "                                             seed = 42)\n",
    "                                            #  seed = 42\n",
    "validation_dataset = image_dataset_from_directory(directory,\n",
    "                                             shuffle=True,\n",
    "                                             batch_size=BATCH_SIZE,\n",
    "                                             image_size=IMG_SIZE,\n",
    "                                             validation_split=0.2,\n",
    "                                             subset='validation',\n",
    "                                             seed = 42)\n",
    "                                            #  seed = 42"
   ]
  },
  {
   "cell_type": "code",
   "execution_count": 24,
   "metadata": {},
   "outputs": [],
   "source": [
    "from keras.layers import Flatten, Dense, Input\n",
    "from keras_vggface.vggface import VGGFace\n",
    "\n",
    "#custom parameters\n",
    "nb_class = 12\n",
    "\n",
    "vgg_model = VGGFace(include_top=False, input_shape=(224, 224, 3))\n",
    "last_layer = vgg_model.get_layer('pool5').output\n",
    "x = Flatten(name='flatten')(last_layer)\n",
    "out = Dense(nb_class, activation='softmax', name='classifier')(x)\n",
    "custom_vgg_model = tf.keras.Model(vgg_model.input, out)"
   ]
  },
  {
   "cell_type": "code",
   "execution_count": 25,
   "metadata": {},
   "outputs": [],
   "source": [
    "custom_vgg_model.compile(optimizer=\"adam\",\n",
    "              loss=keras.losses.SparseCategoricalCrossentropy(from_logits = False),\n",
    "              metrics=['accuracy'])"
   ]
  },
  {
   "cell_type": "code",
   "execution_count": 26,
   "metadata": {},
   "outputs": [
    {
     "name": "stdout",
     "output_type": "stream",
     "text": [
      "Epoch 1/5\n",
      "39/39 [==============================] - 327s 8s/step - loss: 5.8101 - accuracy: 0.2756 - val_loss: 2.2041 - val_accuracy: 0.3333\n",
      "Epoch 2/5\n",
      "39/39 [==============================] - 325s 8s/step - loss: 1.9295 - accuracy: 0.3894 - val_loss: 1.9365 - val_accuracy: 0.4263\n",
      "Epoch 3/5\n",
      "39/39 [==============================] - 321s 8s/step - loss: 1.6268 - accuracy: 0.4704 - val_loss: 1.4387 - val_accuracy: 0.5192\n",
      "Epoch 4/5\n",
      " 8/39 [=====>........................] - ETA: 4:12 - loss: 1.5179 - accuracy: 0.5234"
     ]
    }
   ],
   "source": [
    "initial_epochs = 5\n",
    "history = custom_vgg_model.fit(train_dataset, validation_data=validation_dataset, epochs=initial_epochs)"
   ]
  }
 ],
 "metadata": {
  "kernelspec": {
   "display_name": "Python 3.10.2 64-bit",
   "language": "python",
   "name": "python3"
  },
  "language_info": {
   "codemirror_mode": {
    "name": "ipython",
    "version": 3
   },
   "file_extension": ".py",
   "mimetype": "text/x-python",
   "name": "python",
   "nbconvert_exporter": "python",
   "pygments_lexer": "ipython3",
   "version": "3.10.2"
  },
  "orig_nbformat": 4,
  "vscode": {
   "interpreter": {
    "hash": "438b8d175c626dc66ab93e1d243ebbf49c1b7127dc5ebb75e5a50a3421acac2b"
   }
  }
 },
 "nbformat": 4,
 "nbformat_minor": 2
}
